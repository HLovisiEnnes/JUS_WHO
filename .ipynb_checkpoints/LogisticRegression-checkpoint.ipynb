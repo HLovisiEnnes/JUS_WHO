{
 "cells": [
  {
   "cell_type": "code",
   "execution_count": 1,
   "id": "e6ab29e7-9c88-4840-a70a-4ba31522356a",
   "metadata": {},
   "outputs": [],
   "source": [
    "import pandas as pd\n",
    "import numpy as np\n",
    "\n",
    "from sklearn.metrics import classification_report, confusion_matrix, accuracy_score\n",
    "from sklearn.model_selection import train_test_split\n",
    "\n",
    "from sklearn.linear_model import LogisticRegression\n",
    "\n",
    "import statsmodels.formula.api as smf\n",
    "import statsmodels.api as sm\n",
    "\n",
    "import matplotlib.pyplot as plt\n",
    "import seaborn\n",
    "seaborn.set()"
   ]
  },
  {
   "cell_type": "code",
   "execution_count": 2,
   "id": "423ca954-fa0a-450f-8455-a062d750bc84",
   "metadata": {},
   "outputs": [
    {
     "data": {
      "text/plain": [
       "Index(['tribunal', 'numero_id', 'link', 'tipo', 'decisao', 'relator',\n",
       "       'data_julgamento', 'data_publicacao', 'local_da_mencao',\n",
       "       'nome_do_documento_citado', 'soft_hard',\n",
       "       'ministro_do_voto_que_menciona', 'forma_da_mencao_direta_or_indireta',\n",
       "       'trecho_citado', 'forma_mencao', 'major_health_issue'],\n",
       "      dtype='object')"
      ]
     },
     "execution_count": 2,
     "metadata": {},
     "output_type": "execute_result"
    }
   ],
   "source": [
    "jus = pd.read_excel('Judiciario.xlsx')\n",
    "jus.columns"
   ]
  },
  {
   "cell_type": "code",
   "execution_count": 3,
   "id": "2ecef932-b759-4aa7-be87-690affa55151",
   "metadata": {},
   "outputs": [],
   "source": [
    "y = []\n",
    "for voto in jus['local_da_mencao']:\n",
    "    if type(voto) == str:\n",
    "        if 'vencedor' in voto.lower():\n",
    "            y.append(1)\n",
    "        elif 'vencido' in voto.lower():\n",
    "            y.append(0)\n",
    "        else: \n",
    "            y.append(-1)\n",
    "    else: \n",
    "        y.append(-1)\n",
    "jus['Voto vencedor'] = y"
   ]
  },
  {
   "cell_type": "code",
   "execution_count": 4,
   "id": "633a74c8-9a47-40e5-8d29-7e6836a2e564",
   "metadata": {},
   "outputs": [],
   "source": [
    "covid = []\n",
    "for ht in list(jus['major_health_issue']):\n",
    "    if type(ht) == str:\n",
    "        if 'covid' in ht.lower():\n",
    "            covid.append(1)\n",
    "        else:\n",
    "            covid.append(0)\n",
    "    else:\n",
    "        covid.append(0)\n",
    "jus['COVID'] = covid"
   ]
  },
  {
   "cell_type": "code",
   "execution_count": 5,
   "id": "5c5bb184-fa52-4759-bac5-fb6d224a9f6c",
   "metadata": {},
   "outputs": [
    {
     "name": "stdout",
     "output_type": "stream",
     "text": [
      "{'Generic mention to WHO', 'Imprecise mention to a WHO document', 'Precise mention to a WHO document'}\n"
     ]
    }
   ],
   "source": [
    "jus = jus[~jus['forma_mencao'].isnull()]\n",
    "print(set(jus['forma_mencao']))\n",
    "\n",
    "\n",
    "gen = []\n",
    "imp = []\n",
    "prec = [] \n",
    "for el in jus['forma_mencao']:\n",
    "    if el == 'Generic mention to WHO':\n",
    "        gen.append(1)\n",
    "        imp.append(0)\n",
    "        prec.append(0)\n",
    "    elif el == 'Imprecise mention to a WHO document':\n",
    "        gen.append(0)\n",
    "        imp.append(1)\n",
    "        prec.append(0)\n",
    "    else:\n",
    "        gen.append(0)\n",
    "        imp.append(0)\n",
    "        prec.append(1)\n",
    "jus['Generic mention'] = gen\n",
    "jus['Imprecise mention'] = imp\n",
    "jus['Precise mention'] = prec"
   ]
  },
  {
   "cell_type": "code",
   "execution_count": 6,
   "id": "06fd917a-2d21-4585-a1d4-2dcc41dd524e",
   "metadata": {},
   "outputs": [
    {
     "name": "stdout",
     "output_type": "stream",
     "text": [
      "{'direct', 'Indirect', 'Direct', 'indirect'}\n"
     ]
    }
   ],
   "source": [
    "jus = jus[~jus['forma_da_mencao_direta_or_indireta'].isnull()]\n",
    "print(set(jus['forma_da_mencao_direta_or_indireta']))\n",
    "jus['Direct mention'] = jus['forma_da_mencao_direta_or_indireta'].map({'Direct': 1, 'direct': 1, 'Indirect': 0, 'indirect': 0})\n",
    "jus = jus[(jus['Direct mention'] == 0)|(jus['Direct mention'] == 1)]"
   ]
  },
  {
   "cell_type": "code",
   "execution_count": 7,
   "id": "a35de62f-a7a7-4a89-bb2b-fbffa1c1d7f6",
   "metadata": {},
   "outputs": [
    {
     "name": "stdout",
     "output_type": "stream",
     "text": [
      "{'Soft Law', 'Soft', 'Hard', 'N/C - dúvida', 'Hard Law', nan}\n"
     ]
    }
   ],
   "source": [
    "print(set(jus['soft_hard']))\n",
    "\n",
    "hs = []\n",
    "for el in list(jus['soft_hard']):\n",
    "    if type(el) == str:\n",
    "        if 'soft' in el.lower():\n",
    "            hs.append(0)\n",
    "        elif 'hard' in el.lower():\n",
    "            hs.append(1)\n",
    "        else:\n",
    "            hs.append(-1)\n",
    "    else:\n",
    "        hs.append(-1)\n",
    "\n",
    "jus['Hard vs Soft'] = hs"
   ]
  },
  {
   "cell_type": "markdown",
   "id": "81f1aed6-5974-4d4b-b428-91fdfc2b4734",
   "metadata": {},
   "source": [
    "# Models"
   ]
  },
  {
   "cell_type": "markdown",
   "id": "af1a4747-f930-4813-87fa-ed67fd4cd99a",
   "metadata": {},
   "source": [
    "## All data"
   ]
  },
  {
   "cell_type": "code",
   "execution_count": 8,
   "id": "a876b290-46d8-4798-adcf-3708201b8a57",
   "metadata": {},
   "outputs": [],
   "source": [
    "reg_data = jus[(jus['Voto vencedor'] == 0)|(jus['Voto vencedor'] == 1)]"
   ]
  },
  {
   "cell_type": "code",
   "execution_count": 9,
   "id": "5f6518d9-b31a-49d3-95c2-8f9e3ac1599f",
   "metadata": {},
   "outputs": [
    {
     "name": "stdout",
     "output_type": "stream",
     "text": [
      "Number of samples:  342\n",
      "Number of 'votos vencedor':  339\n",
      "Perecentage of 'votos vencedor':  0.889763779527559\n"
     ]
    }
   ],
   "source": [
    "X = reg_data[['Generic mention', 'Imprecise mention', 'Precise mention', 'COVID', 'Direct mention']]\n",
    "y = reg_data['Voto vencedor']\n",
    "\n",
    "X_train, X_test, y_train, y_test = train_test_split(X, y, test_size=0.1, random_state=42)\n",
    "\n",
    "print('Number of samples: ', len(X_train))\n",
    "print(\"Number of 'votos vencedor': \", sum(y))\n",
    "print(\"Perecentage of 'votos vencedor': \",  sum(y)/len(X))"
   ]
  },
  {
   "cell_type": "code",
   "execution_count": 10,
   "id": "aa5baf2b-43d7-4fef-a699-4d7e59914033",
   "metadata": {},
   "outputs": [
    {
     "name": "stdout",
     "output_type": "stream",
     "text": [
      "Optimization terminated successfully.\n",
      "         Current function value: 0.298649\n",
      "         Iterations 7\n"
     ]
    }
   ],
   "source": [
    "log_reg = sm.Logit(list(y_train), X_train).fit()"
   ]
  },
  {
   "cell_type": "code",
   "execution_count": 11,
   "id": "6ffc5355-90a2-458f-be78-98f564e32331",
   "metadata": {},
   "outputs": [
    {
     "name": "stdout",
     "output_type": "stream",
     "text": [
      "Test accuracy:  0.8717948717948718\n"
     ]
    },
    {
     "data": {
      "text/html": [
       "<table class=\"simpletable\">\n",
       "<caption>Logit Regression Results</caption>\n",
       "<tr>\n",
       "  <th>Dep. Variable:</th>           <td>y</td>        <th>  No. Observations:  </th>  <td>   342</td>  \n",
       "</tr>\n",
       "<tr>\n",
       "  <th>Model:</th>                 <td>Logit</td>      <th>  Df Residuals:      </th>  <td>   337</td>  \n",
       "</tr>\n",
       "<tr>\n",
       "  <th>Method:</th>                 <td>MLE</td>       <th>  Df Model:          </th>  <td>     4</td>  \n",
       "</tr>\n",
       "<tr>\n",
       "  <th>Date:</th>            <td>Thu, 22 Jun 2023</td> <th>  Pseudo R-squ.:     </th>  <td>0.1286</td>  \n",
       "</tr>\n",
       "<tr>\n",
       "  <th>Time:</th>                <td>16:34:46</td>     <th>  Log-Likelihood:    </th> <td> -102.14</td> \n",
       "</tr>\n",
       "<tr>\n",
       "  <th>converged:</th>             <td>True</td>       <th>  LL-Null:           </th> <td> -117.21</td> \n",
       "</tr>\n",
       "<tr>\n",
       "  <th>Covariance Type:</th>     <td>nonrobust</td>    <th>  LLR p-value:       </th> <td>4.591e-06</td>\n",
       "</tr>\n",
       "</table>\n",
       "<table class=\"simpletable\">\n",
       "<tr>\n",
       "          <td></td>             <th>coef</th>     <th>std err</th>      <th>z</th>      <th>P>|z|</th>  <th>[0.025</th>    <th>0.975]</th>  \n",
       "</tr>\n",
       "<tr>\n",
       "  <th>Generic mention</th>   <td>    2.6519</td> <td>    0.667</td> <td>    3.977</td> <td> 0.000</td> <td>    1.345</td> <td>    3.959</td>\n",
       "</tr>\n",
       "<tr>\n",
       "  <th>Imprecise mention</th> <td>    4.6168</td> <td>    0.641</td> <td>    7.199</td> <td> 0.000</td> <td>    3.360</td> <td>    5.874</td>\n",
       "</tr>\n",
       "<tr>\n",
       "  <th>Precise mention</th>   <td>    2.9497</td> <td>    0.435</td> <td>    6.775</td> <td> 0.000</td> <td>    2.096</td> <td>    3.803</td>\n",
       "</tr>\n",
       "<tr>\n",
       "  <th>COVID</th>             <td>   -1.0859</td> <td>    0.465</td> <td>   -2.334</td> <td> 0.020</td> <td>   -1.998</td> <td>   -0.174</td>\n",
       "</tr>\n",
       "<tr>\n",
       "  <th>Direct mention</th>    <td>   -1.0816</td> <td>    0.489</td> <td>   -2.211</td> <td> 0.027</td> <td>   -2.040</td> <td>   -0.123</td>\n",
       "</tr>\n",
       "</table>"
      ],
      "text/plain": [
       "<class 'statsmodels.iolib.summary.Summary'>\n",
       "\"\"\"\n",
       "                           Logit Regression Results                           \n",
       "==============================================================================\n",
       "Dep. Variable:                      y   No. Observations:                  342\n",
       "Model:                          Logit   Df Residuals:                      337\n",
       "Method:                           MLE   Df Model:                            4\n",
       "Date:                Thu, 22 Jun 2023   Pseudo R-squ.:                  0.1286\n",
       "Time:                        16:34:46   Log-Likelihood:                -102.14\n",
       "converged:                       True   LL-Null:                       -117.21\n",
       "Covariance Type:            nonrobust   LLR p-value:                 4.591e-06\n",
       "=====================================================================================\n",
       "                        coef    std err          z      P>|z|      [0.025      0.975]\n",
       "-------------------------------------------------------------------------------------\n",
       "Generic mention       2.6519      0.667      3.977      0.000       1.345       3.959\n",
       "Imprecise mention     4.6168      0.641      7.199      0.000       3.360       5.874\n",
       "Precise mention       2.9497      0.435      6.775      0.000       2.096       3.803\n",
       "COVID                -1.0859      0.465     -2.334      0.020      -1.998      -0.174\n",
       "Direct mention       -1.0816      0.489     -2.211      0.027      -2.040      -0.123\n",
       "=====================================================================================\n",
       "\"\"\""
      ]
     },
     "execution_count": 11,
     "metadata": {},
     "output_type": "execute_result"
    }
   ],
   "source": [
    "predictions = log_reg.predict(X_test)\n",
    "predictions = list(map(round, predictions))\n",
    "\n",
    "print('Test accuracy: ', accuracy_score(y_test, predictions))\n",
    "\n",
    "log_reg.summary()"
   ]
  },
  {
   "cell_type": "code",
   "execution_count": 12,
   "id": "836cabda-09ca-4b4d-859a-416e1f95a87d",
   "metadata": {},
   "outputs": [
    {
     "data": {
      "image/png": "[encoded data removed]",
      "text/plain": [
       "<Figure size 640x480 with 1 Axes>"
      ]
     },
     "metadata": {},
     "output_type": "display_data"
    }
   ],
   "source": [
    "conf_mat = confusion_matrix(y_test, predictions)\n",
    "seaborn.heatmap(conf_mat, square=True, annot=True, cmap='Blues', fmt='d', cbar=False)\n",
    "plt.show()"
   ]
  },
  {
   "cell_type": "code",
   "execution_count": 13,
   "id": "bc6216a1-8415-4948-b6eb-7e3e81fd656f",
   "metadata": {},
   "outputs": [
    {
     "data": {
      "image/png": "[encoded data removed]",
      "text/plain": [
       "<Figure size 640x480 with 1 Axes>"
      ]
     },
     "metadata": {},
     "output_type": "display_data"
    }
   ],
   "source": [
    "#faz o plot dos coeficientes\n",
    "plt.errorbar([log_reg.params.iloc[0]], [1], xerr = 0.9, fmt = 's',color = 'orange', \n",
    "            ecolor = 'orange', elinewidth = 1, capsize=10, label = log_reg.params.index[0])\n",
    "plt.errorbar([log_reg.params.iloc[1]], [0], xerr = 0.9, fmt = 's',color = 'darkblue', \n",
    "            ecolor = 'darkblue', elinewidth = 1, capsize=10, label = log_reg.params.index[1])\n",
    "plt.errorbar([log_reg.params.iloc[2]], [-1], xerr = 0.9, fmt = 's',color = 'darkgreen', \n",
    "            ecolor = 'darkgreen', elinewidth = 1, capsize=10, label = log_reg.params.index[2])\n",
    "plt.errorbar([log_reg.params.iloc[3]], [-2], xerr = 0.9, fmt = 's',color = 'darkred', \n",
    "            ecolor = 'darkred', elinewidth = 1, capsize=10, label = log_reg.params.index[3])\n",
    "plt.errorbar([log_reg.params.iloc[4]], [-3], xerr = 0.9, fmt = 's',color = 'goldenrod', \n",
    "            ecolor = 'goldenrod', elinewidth = 1, capsize=10, label = log_reg.params.index[4])\n",
    "plt.axvline(0, linestyle = '--', alpha = 0.5)\n",
    "plt.xlabel('Coefficients')\n",
    "plt.legend(loc = 'upper left')\n",
    "\n",
    "#get current axes\n",
    "ax = plt.gca()\n",
    "\n",
    "#hide x-axis\n",
    "ax.get_yaxis().set_visible(False)\n",
    "plt.show()"
   ]
  },
  {
   "cell_type": "code",
   "execution_count": 14,
   "id": "72217b6f-130a-45b1-8a13-352521aac1e8",
   "metadata": {},
   "outputs": [
    {
     "name": "stdout",
     "output_type": "stream",
     "text": [
      "0.8717948717948718\n"
     ]
    },
    {
     "data": {
      "image/png": "[encoded data removed]",
      "text/plain": [
       "<Figure size 640x480 with 1 Axes>"
      ]
     },
     "metadata": {},
     "output_type": "display_data"
    }
   ],
   "source": [
    "model = LogisticRegression()\n",
    "model.fit(X_train, y_train)\n",
    "print(model.score(X_test, y_test))\n",
    "\n",
    "\n",
    "conf_mat = confusion_matrix(y_test, model.predict(X_test))\n",
    "seaborn.heatmap(conf_mat, square=True, annot=True, cmap='Blues', fmt='d', cbar=False)\n",
    "plt.show()"
   ]
  },
  {
   "cell_type": "code",
   "execution_count": 15,
   "id": "b95837f2-850a-454b-b63c-f378203b3687",
   "metadata": {},
   "outputs": [
    {
     "name": "stdout",
     "output_type": "stream",
     "text": [
      "0.6410256410256411\n"
     ]
    },
    {
     "data": {
      "image/png": "[encoded data removed]",
      "text/plain": [
       "<Figure size 640x480 with 1 Axes>"
      ]
     },
     "metadata": {},
     "output_type": "display_data"
    }
   ],
   "source": [
    "w = {0:sum(y), 1:len(y)-sum(y)}\n",
    "model = LogisticRegression(class_weight=w)\n",
    "model.fit(X_train, y_train)\n",
    "print(model.score(X_test, y_test))\n",
    "\n",
    "conf_mat = confusion_matrix(y_test, model.predict(X_test))\n",
    "seaborn.heatmap(conf_mat, square=True, annot=True, cmap='Blues', fmt='d', cbar=False)\n",
    "plt.show()"
   ]
  },
  {
   "cell_type": "code",
   "execution_count": 16,
   "id": "f977e5f1-688e-4d89-9188-4687e95ff90a",
   "metadata": {},
   "outputs": [
    {
     "name": "stdout",
     "output_type": "stream",
     "text": [
      "Two most important features:\n",
      "['Imprecise mention', 'COVID']\n",
      "\n",
      "\n",
      "Position ranking\n",
      "Generic mention :  3\n",
      "Imprecise mention :  1\n",
      "Precise mention :  4\n",
      "COVID :  1\n",
      "Direct mention :  2\n",
      "0.8717948717948718\n"
     ]
    }
   ],
   "source": [
    "from sklearn.feature_selection import RFE\n",
    "\n",
    "model = LogisticRegression()\n",
    "selector = RFE(model, n_features_to_select=2, step=1)\n",
    "selector = selector.fit(X_train, y_train)\n",
    "\n",
    "print('Two most important features:')\n",
    "print(list(log_reg.params.index[selector.support_]))\n",
    "\n",
    "print('\\n\\nPosition ranking')\n",
    "for i, el in enumerate(log_reg.params.index):\n",
    "    print(el, ': ', selector.ranking_[i])\n",
    "    \n",
    "reduced_X_train = X_train[log_reg.params.index[selector.support_]]\n",
    "reduced_X_test = X_test[log_reg.params.index[selector.support_]]\n",
    "reduced_model = LogisticRegression().fit(reduced_X_train, y_train)\n",
    "print(reduced_model.score(reduced_X_test, y_test))"
   ]
  },
  {
   "cell_type": "code",
   "execution_count": 17,
   "id": "5861ad5d-9bfc-4b91-9091-c70d44c682d2",
   "metadata": {},
   "outputs": [
    {
     "name": "stdout",
     "output_type": "stream",
     "text": [
      "Two most important features:\n",
      "['Imprecise mention']\n",
      "\n",
      "\n",
      "Position ranking\n",
      "Generic mention :  4\n",
      "Imprecise mention :  1\n",
      "Precise mention :  5\n",
      "COVID :  2\n",
      "Direct mention :  3\n",
      "0.8717948717948718\n"
     ]
    }
   ],
   "source": [
    "from sklearn.feature_selection import RFECV\n",
    "\n",
    "model = LogisticRegression()\n",
    "selector = RFECV(model, cv = 5, step=1)\n",
    "selector = selector.fit(X_train, y_train)\n",
    "\n",
    "print('Two most important features:')\n",
    "print(list(log_reg.params.index[selector.support_]))\n",
    "\n",
    "print('\\n\\nPosition ranking')\n",
    "for i, el in enumerate(log_reg.params.index):\n",
    "    print(el, ': ', selector.ranking_[i])\n",
    "\n",
    "reduced_X_train = X_train[log_reg.params.index[selector.support_]]\n",
    "reduced_X_test = X_test[log_reg.params.index[selector.support_]]\n",
    "reduced_model = LogisticRegression().fit(reduced_X_train, y_train)\n",
    "print(reduced_model.score(reduced_X_test, y_test))"
   ]
  },
  {
   "cell_type": "markdown",
   "id": "ce13cb2b-74f1-4d4d-bf2d-5f6191485f2e",
   "metadata": {},
   "source": [
    "## SMOTE"
   ]
  },
  {
   "cell_type": "code",
   "execution_count": 18,
   "id": "9209a5d6-600f-4d7d-8a59-3749ee0090d2",
   "metadata": {},
   "outputs": [],
   "source": [
    "from imblearn.over_sampling import SMOTE\n",
    "smote = SMOTE(sampling_strategy = 1 , k_neighbors = 3, random_state= 42)\n",
    "X_train_res, y_train_res = smote.fit_resample(X_train, y_train.ravel())"
   ]
  },
  {
   "cell_type": "code",
   "execution_count": 19,
   "id": "e45924da-ccd5-40a1-912a-9e5e308152a9",
   "metadata": {},
   "outputs": [
    {
     "name": "stdout",
     "output_type": "stream",
     "text": [
      "Optimization terminated successfully.\n",
      "         Current function value: 0.613424\n",
      "         Iterations 5\n"
     ]
    }
   ],
   "source": [
    "log_reg = sm.Logit(y_train_res, X_train_res).fit()"
   ]
  },
  {
   "cell_type": "code",
   "execution_count": 20,
   "id": "b81d7b3b-c231-4845-b90f-b901383b1faa",
   "metadata": {},
   "outputs": [
    {
     "name": "stdout",
     "output_type": "stream",
     "text": [
      "Test accuracy:  0.6153846153846154\n"
     ]
    },
    {
     "data": {
      "text/html": [
       "<table class=\"simpletable\">\n",
       "<caption>Logit Regression Results</caption>\n",
       "<tr>\n",
       "  <th>Dep. Variable:</th>           <td>y</td>        <th>  No. Observations:  </th>  <td>   610</td>  \n",
       "</tr>\n",
       "<tr>\n",
       "  <th>Model:</th>                 <td>Logit</td>      <th>  Df Residuals:      </th>  <td>   605</td>  \n",
       "</tr>\n",
       "<tr>\n",
       "  <th>Method:</th>                 <td>MLE</td>       <th>  Df Model:          </th>  <td>     4</td>  \n",
       "</tr>\n",
       "<tr>\n",
       "  <th>Date:</th>            <td>Thu, 22 Jun 2023</td> <th>  Pseudo R-squ.:     </th>  <td>0.1150</td>  \n",
       "</tr>\n",
       "<tr>\n",
       "  <th>Time:</th>                <td>16:34:47</td>     <th>  Log-Likelihood:    </th> <td> -374.19</td> \n",
       "</tr>\n",
       "<tr>\n",
       "  <th>converged:</th>             <td>True</td>       <th>  LL-Null:           </th> <td> -422.82</td> \n",
       "</tr>\n",
       "<tr>\n",
       "  <th>Covariance Type:</th>     <td>nonrobust</td>    <th>  LLR p-value:       </th> <td>3.763e-20</td>\n",
       "</tr>\n",
       "</table>\n",
       "<table class=\"simpletable\">\n",
       "<tr>\n",
       "          <td></td>             <th>coef</th>     <th>std err</th>      <th>z</th>      <th>P>|z|</th>  <th>[0.025</th>    <th>0.975]</th>  \n",
       "</tr>\n",
       "<tr>\n",
       "  <th>Generic mention</th>   <td>   -0.0679</td> <td>    0.334</td> <td>   -0.203</td> <td> 0.839</td> <td>   -0.723</td> <td>    0.587</td>\n",
       "</tr>\n",
       "<tr>\n",
       "  <th>Imprecise mention</th> <td>    1.8498</td> <td>    0.248</td> <td>    7.466</td> <td> 0.000</td> <td>    1.364</td> <td>    2.335</td>\n",
       "</tr>\n",
       "<tr>\n",
       "  <th>Precise mention</th>   <td>    0.4781</td> <td>    0.164</td> <td>    2.924</td> <td> 0.003</td> <td>    0.158</td> <td>    0.799</td>\n",
       "</tr>\n",
       "<tr>\n",
       "  <th>COVID</th>             <td>   -0.4154</td> <td>    0.213</td> <td>   -1.955</td> <td> 0.051</td> <td>   -0.832</td> <td>    0.001</td>\n",
       "</tr>\n",
       "<tr>\n",
       "  <th>Direct mention</th>    <td>   -0.8646</td> <td>    0.211</td> <td>   -4.096</td> <td> 0.000</td> <td>   -1.278</td> <td>   -0.451</td>\n",
       "</tr>\n",
       "</table>"
      ],
      "text/plain": [
       "<class 'statsmodels.iolib.summary.Summary'>\n",
       "\"\"\"\n",
       "                           Logit Regression Results                           \n",
       "==============================================================================\n",
       "Dep. Variable:                      y   No. Observations:                  610\n",
       "Model:                          Logit   Df Residuals:                      605\n",
       "Method:                           MLE   Df Model:                            4\n",
       "Date:                Thu, 22 Jun 2023   Pseudo R-squ.:                  0.1150\n",
       "Time:                        16:34:47   Log-Likelihood:                -374.19\n",
       "converged:                       True   LL-Null:                       -422.82\n",
       "Covariance Type:            nonrobust   LLR p-value:                 3.763e-20\n",
       "=====================================================================================\n",
       "                        coef    std err          z      P>|z|      [0.025      0.975]\n",
       "-------------------------------------------------------------------------------------\n",
       "Generic mention      -0.0679      0.334     -0.203      0.839      -0.723       0.587\n",
       "Imprecise mention     1.8498      0.248      7.466      0.000       1.364       2.335\n",
       "Precise mention       0.4781      0.164      2.924      0.003       0.158       0.799\n",
       "COVID                -0.4154      0.213     -1.955      0.051      -0.832       0.001\n",
       "Direct mention       -0.8646      0.211     -4.096      0.000      -1.278      -0.451\n",
       "=====================================================================================\n",
       "\"\"\""
      ]
     },
     "execution_count": 20,
     "metadata": {},
     "output_type": "execute_result"
    }
   ],
   "source": [
    "predictions = log_reg.predict(X_test)\n",
    "predictions = list(map(round, predictions))\n",
    "\n",
    "print('Test accuracy: ', accuracy_score(y_test, predictions))\n",
    "\n",
    "log_reg.summary()"
   ]
  },
  {
   "cell_type": "code",
   "execution_count": 21,
   "id": "c0a76a9c-6a29-4df3-870d-851aeb0b22b7",
   "metadata": {},
   "outputs": [
    {
     "data": {
      "image/png": "[encoded data removed]",
      "text/plain": [
       "<Figure size 640x480 with 1 Axes>"
      ]
     },
     "metadata": {},
     "output_type": "display_data"
    }
   ],
   "source": [
    "conf_mat = confusion_matrix(y_test, predictions)\n",
    "seaborn.heatmap(conf_mat, square=True, annot=True, cmap='Blues', fmt='d', cbar=False)\n",
    "plt.show()"
   ]
  },
  {
   "cell_type": "code",
   "execution_count": 22,
   "id": "78097053-9323-4140-8673-f39a95bcf9c7",
   "metadata": {},
   "outputs": [
    {
     "data": {
      "image/png": "[encoded data removed]",
      "text/plain": [
       "<Figure size 640x480 with 1 Axes>"
      ]
     },
     "metadata": {},
     "output_type": "display_data"
    }
   ],
   "source": [
    "#faz o plot dos coeficientes\n",
    "plt.errorbar([log_reg.params.iloc[0]], [1], xerr = 0.9, fmt = 's',color = 'orange', \n",
    "            ecolor = 'orange', elinewidth = 1, capsize=10, label = log_reg.params.index[0])\n",
    "plt.errorbar([log_reg.params.iloc[1]], [0], xerr = 0.9, fmt = 's',color = 'darkblue', \n",
    "            ecolor = 'darkblue', elinewidth = 1, capsize=10, label = log_reg.params.index[1])\n",
    "plt.errorbar([log_reg.params.iloc[2]], [-1], xerr = 0.9, fmt = 's',color = 'darkgreen', \n",
    "            ecolor = 'darkgreen', elinewidth = 1, capsize=10, label = log_reg.params.index[2])\n",
    "plt.errorbar([log_reg.params.iloc[3]], [-2], xerr = 0.9, fmt = 's',color = 'darkred', \n",
    "            ecolor = 'darkred', elinewidth = 1, capsize=10, label = log_reg.params.index[3])\n",
    "plt.errorbar([log_reg.params.iloc[4]], [-3], xerr = 0.9, fmt = 's',color = 'goldenrod', \n",
    "            ecolor = 'goldenrod', elinewidth = 1, capsize=10, label = log_reg.params.index[4])\n",
    "plt.axvline(0, linestyle = '--', alpha = 0.5)\n",
    "plt.xlabel('Coefficients')\n",
    "plt.legend()\n",
    "\n",
    "#get current axes\n",
    "ax = plt.gca()\n",
    "\n",
    "#hide x-axis\n",
    "ax.get_yaxis().set_visible(False)\n",
    "plt.show()"
   ]
  },
  {
   "cell_type": "code",
   "execution_count": 23,
   "id": "4c75853b-cd2b-471f-9328-26bf790017c5",
   "metadata": {},
   "outputs": [
    {
     "name": "stdout",
     "output_type": "stream",
     "text": [
      "Two most important features:\n",
      "['Imprecise mention', 'Direct mention']\n",
      "\n",
      "\n",
      "Position ranking\n",
      "Generic mention :  2\n",
      "Imprecise mention :  1\n",
      "Precise mention :  4\n",
      "COVID :  3\n",
      "Direct mention :  1\n",
      "0.6410256410256411\n"
     ]
    }
   ],
   "source": [
    "model = LogisticRegression()\n",
    "selector = RFE(model, n_features_to_select=2, step=1)\n",
    "selector = selector.fit(X_train_res, y_train_res)\n",
    "\n",
    "print('Two most important features:')\n",
    "print(list(log_reg.params.index[selector.support_]))\n",
    "\n",
    "print('\\n\\nPosition ranking')\n",
    "for i, el in enumerate(log_reg.params.index):\n",
    "    print(el, ': ', selector.ranking_[i])\n",
    "    \n",
    "reduced_X_train = X_train_res[log_reg.params.index[selector.support_]]\n",
    "reduced_X_test = X_test[log_reg.params.index[selector.support_]]\n",
    "reduced_model = LogisticRegression().fit(reduced_X_train, y_train_res)\n",
    "print(reduced_model.score(reduced_X_test, y_test))"
   ]
  },
  {
   "cell_type": "code",
   "execution_count": 24,
   "id": "4832a50f-fe5a-4d33-94ce-5aa0cef1ab26",
   "metadata": {},
   "outputs": [
    {
     "name": "stdout",
     "output_type": "stream",
     "text": [
      "Two most important features:\n",
      "['Generic mention', 'Imprecise mention', 'Direct mention']\n",
      "\n",
      "\n",
      "Position ranking\n",
      "Generic mention :  1\n",
      "Imprecise mention :  1\n",
      "Precise mention :  3\n",
      "COVID :  2\n",
      "Direct mention :  1\n",
      "0.6153846153846154\n"
     ]
    }
   ],
   "source": [
    "model = LogisticRegression()\n",
    "selector = RFECV(model, cv = 5, step=1)\n",
    "selector = selector.fit(X_train_res, y_train_res)\n",
    "\n",
    "print('Two most important features:')\n",
    "print(list(log_reg.params.index[selector.support_]))\n",
    "\n",
    "print('\\n\\nPosition ranking')\n",
    "for i, el in enumerate(log_reg.params.index):\n",
    "    print(el, ': ', selector.ranking_[i])\n",
    "    \n",
    "reduced_X_train = X_train_res[log_reg.params.index[selector.support_]]\n",
    "reduced_X_test = X_test[log_reg.params.index[selector.support_]]\n",
    "reduced_model = LogisticRegression().fit(reduced_X_train, y_train_res)\n",
    "print(reduced_model.score(reduced_X_test, y_test))"
   ]
  },
  {
   "cell_type": "markdown",
   "id": "fd46a249-9ba0-45d8-9659-e77a18ad375d",
   "metadata": {},
   "source": [
    "## Hard soft"
   ]
  },
  {
   "cell_type": "code",
   "execution_count": 25,
   "id": "9f72fb2b-7947-442f-9836-142040cdaea6",
   "metadata": {},
   "outputs": [
    {
     "name": "stdout",
     "output_type": "stream",
     "text": [
      "Number of samples:  298\n",
      "Number of 'votos vencedor':  303\n",
      "Perecentage of 'votos vencedor':  0.9126506024096386\n"
     ]
    }
   ],
   "source": [
    "reg_data = reg_data[(reg_data['Hard vs Soft'] == 1) | (reg_data['Hard vs Soft'] == 0)]\n",
    "X = reg_data[['COVID', 'Direct mention', 'Hard vs Soft']]\n",
    "y = reg_data['Voto vencedor']\n",
    "class_weight = {1:sum(y), 0:(len(y)-sum(y))}\n",
    "\n",
    "X_train, X_test, y_train, y_test = train_test_split(X, y, test_size=0.1, random_state=42)\n",
    "\n",
    "print('Number of samples: ', len(X_train))\n",
    "print(\"Number of 'votos vencedor': \", sum(y))\n",
    "print(\"Perecentage of 'votos vencedor': \",  sum(y)/len(X))"
   ]
  },
  {
   "cell_type": "code",
   "execution_count": 26,
   "id": "3d1442c6-01a8-4ca2-91f0-c3d7afef95a7",
   "metadata": {},
   "outputs": [
    {
     "name": "stdout",
     "output_type": "stream",
     "text": [
      "Optimization terminated successfully.\n",
      "         Current function value: 0.447927\n",
      "         Iterations 6\n"
     ]
    }
   ],
   "source": [
    "log_reg = sm.Logit(list(y_train), X_train).fit()"
   ]
  },
  {
   "cell_type": "code",
   "execution_count": 27,
   "id": "7745d8f3-ffe6-4979-a32a-aa5d86b63feb",
   "metadata": {},
   "outputs": [
    {
     "name": "stdout",
     "output_type": "stream",
     "text": [
      "Test accuracy:  0.8823529411764706\n"
     ]
    },
    {
     "data": {
      "text/html": [
       "<table class=\"simpletable\">\n",
       "<caption>Logit Regression Results</caption>\n",
       "<tr>\n",
       "  <th>Dep. Variable:</th>           <td>y</td>        <th>  No. Observations:  </th>  <td>   298</td> \n",
       "</tr>\n",
       "<tr>\n",
       "  <th>Model:</th>                 <td>Logit</td>      <th>  Df Residuals:      </th>  <td>   295</td> \n",
       "</tr>\n",
       "<tr>\n",
       "  <th>Method:</th>                 <td>MLE</td>       <th>  Df Model:          </th>  <td>     2</td> \n",
       "</tr>\n",
       "<tr>\n",
       "  <th>Date:</th>            <td>Thu, 22 Jun 2023</td> <th>  Pseudo R-squ.:     </th>  <td>-0.4738</td>\n",
       "</tr>\n",
       "<tr>\n",
       "  <th>Time:</th>                <td>16:34:48</td>     <th>  Log-Likelihood:    </th> <td> -133.48</td>\n",
       "</tr>\n",
       "<tr>\n",
       "  <th>converged:</th>             <td>True</td>       <th>  LL-Null:           </th> <td> -90.572</td>\n",
       "</tr>\n",
       "<tr>\n",
       "  <th>Covariance Type:</th>     <td>nonrobust</td>    <th>  LLR p-value:       </th>  <td> 1.000</td> \n",
       "</tr>\n",
       "</table>\n",
       "<table class=\"simpletable\">\n",
       "<tr>\n",
       "         <td></td>           <th>coef</th>     <th>std err</th>      <th>z</th>      <th>P>|z|</th>  <th>[0.025</th>    <th>0.975]</th>  \n",
       "</tr>\n",
       "<tr>\n",
       "  <th>COVID</th>          <td>    0.7147</td> <td>    0.336</td> <td>    2.125</td> <td> 0.034</td> <td>    0.055</td> <td>    1.374</td>\n",
       "</tr>\n",
       "<tr>\n",
       "  <th>Direct mention</th> <td>    1.4481</td> <td>    0.263</td> <td>    5.511</td> <td> 0.000</td> <td>    0.933</td> <td>    1.963</td>\n",
       "</tr>\n",
       "<tr>\n",
       "  <th>Hard vs Soft</th>   <td>    1.1957</td> <td>    0.283</td> <td>    4.223</td> <td> 0.000</td> <td>    0.641</td> <td>    1.751</td>\n",
       "</tr>\n",
       "</table>"
      ],
      "text/plain": [
       "<class 'statsmodels.iolib.summary.Summary'>\n",
       "\"\"\"\n",
       "                           Logit Regression Results                           \n",
       "==============================================================================\n",
       "Dep. Variable:                      y   No. Observations:                  298\n",
       "Model:                          Logit   Df Residuals:                      295\n",
       "Method:                           MLE   Df Model:                            2\n",
       "Date:                Thu, 22 Jun 2023   Pseudo R-squ.:                 -0.4738\n",
       "Time:                        16:34:48   Log-Likelihood:                -133.48\n",
       "converged:                       True   LL-Null:                       -90.572\n",
       "Covariance Type:            nonrobust   LLR p-value:                     1.000\n",
       "==================================================================================\n",
       "                     coef    std err          z      P>|z|      [0.025      0.975]\n",
       "----------------------------------------------------------------------------------\n",
       "COVID              0.7147      0.336      2.125      0.034       0.055       1.374\n",
       "Direct mention     1.4481      0.263      5.511      0.000       0.933       1.963\n",
       "Hard vs Soft       1.1957      0.283      4.223      0.000       0.641       1.751\n",
       "==================================================================================\n",
       "\"\"\""
      ]
     },
     "execution_count": 27,
     "metadata": {},
     "output_type": "execute_result"
    }
   ],
   "source": [
    "predictions = log_reg.predict(X_test)\n",
    "predictions = list(map(round, predictions))\n",
    "\n",
    "print('Test accuracy: ', accuracy_score(y_test, predictions))\n",
    "\n",
    "log_reg.summary()"
   ]
  },
  {
   "cell_type": "code",
   "execution_count": 28,
   "id": "1d01d234-05c7-4ffb-9fe0-d771abf2d542",
   "metadata": {},
   "outputs": [
    {
     "data": {
      "image/png": "[encoded data removed]",
      "text/plain": [
       "<Figure size 640x480 with 1 Axes>"
      ]
     },
     "metadata": {},
     "output_type": "display_data"
    }
   ],
   "source": [
    "#faz o plot dos coeficientes\n",
    "plt.errorbar([log_reg.params.iloc[0]], [1], xerr = 0.9, fmt = 's',color = 'orange', \n",
    "            ecolor = 'orange', elinewidth = 1, capsize=10, label = log_reg.params.index[0])\n",
    "plt.errorbar([log_reg.params.iloc[1]], [0], xerr = 0.9, fmt = 's',color = 'darkblue', \n",
    "            ecolor = 'darkblue', elinewidth = 1, capsize=10, label = log_reg.params.index[1])\n",
    "plt.errorbar([log_reg.params.iloc[2]], [-1], xerr = 0.9, fmt = 's',color = 'darkgreen', \n",
    "            ecolor = 'darkgreen', elinewidth = 1, capsize=10, label = log_reg.params.index[2])\n",
    "plt.axvline(0, linestyle = '--', alpha = 0.5)\n",
    "plt.xlabel('Coefficients')\n",
    "plt.legend()\n",
    "\n",
    "#get current axes\n",
    "ax = plt.gca()\n",
    "\n",
    "#hide x-axis\n",
    "ax.get_yaxis().set_visible(False)\n",
    "plt.show()"
   ]
  },
  {
   "cell_type": "code",
   "execution_count": 29,
   "id": "e7dd162a-3389-4729-8433-9f0ce6a7b989",
   "metadata": {},
   "outputs": [],
   "source": [
    "smote = SMOTE(sampling_strategy = 1 , k_neighbors = 3, random_state= 42)\n",
    "X_train_res, y_train_res = smote.fit_resample(X_train, y_train.ravel())"
   ]
  },
  {
   "cell_type": "code",
   "execution_count": 30,
   "id": "9e770309-e8dd-4135-b5f0-a13bea4c6a57",
   "metadata": {},
   "outputs": [
    {
     "name": "stdout",
     "output_type": "stream",
     "text": [
      "Optimization terminated successfully.\n",
      "         Current function value: 0.676280\n",
      "         Iterations 4\n"
     ]
    }
   ],
   "source": [
    "log_reg = sm.Logit(y_train_res, X_train_res).fit()"
   ]
  },
  {
   "cell_type": "code",
   "execution_count": 31,
   "id": "48a882c3-2107-42e2-9f4b-3397b38295ba",
   "metadata": {},
   "outputs": [
    {
     "name": "stdout",
     "output_type": "stream",
     "text": [
      "Test accuracy:  0.11764705882352941\n"
     ]
    },
    {
     "data": {
      "text/html": [
       "<table class=\"simpletable\">\n",
       "<caption>Logit Regression Results</caption>\n",
       "<tr>\n",
       "  <th>Dep. Variable:</th>           <td>y</td>        <th>  No. Observations:  </th>  <td>   542</td>  \n",
       "</tr>\n",
       "<tr>\n",
       "  <th>Model:</th>                 <td>Logit</td>      <th>  Df Residuals:      </th>  <td>   539</td>  \n",
       "</tr>\n",
       "<tr>\n",
       "  <th>Method:</th>                 <td>MLE</td>       <th>  Df Model:          </th>  <td>     2</td>  \n",
       "</tr>\n",
       "<tr>\n",
       "  <th>Date:</th>            <td>Thu, 22 Jun 2023</td> <th>  Pseudo R-squ.:     </th>  <td>0.02433</td> \n",
       "</tr>\n",
       "<tr>\n",
       "  <th>Time:</th>                <td>16:34:48</td>     <th>  Log-Likelihood:    </th> <td> -366.54</td> \n",
       "</tr>\n",
       "<tr>\n",
       "  <th>converged:</th>             <td>True</td>       <th>  LL-Null:           </th> <td> -375.69</td> \n",
       "</tr>\n",
       "<tr>\n",
       "  <th>Covariance Type:</th>     <td>nonrobust</td>    <th>  LLR p-value:       </th> <td>0.0001071</td>\n",
       "</tr>\n",
       "</table>\n",
       "<table class=\"simpletable\">\n",
       "<tr>\n",
       "         <td></td>           <th>coef</th>     <th>std err</th>      <th>z</th>      <th>P>|z|</th>  <th>[0.025</th>    <th>0.975]</th>  \n",
       "</tr>\n",
       "<tr>\n",
       "  <th>COVID</th>          <td>    0.0714</td> <td>    0.192</td> <td>    0.373</td> <td> 0.709</td> <td>   -0.304</td> <td>    0.447</td>\n",
       "</tr>\n",
       "<tr>\n",
       "  <th>Direct mention</th> <td>   -0.1034</td> <td>    0.152</td> <td>   -0.682</td> <td> 0.495</td> <td>   -0.401</td> <td>    0.194</td>\n",
       "</tr>\n",
       "<tr>\n",
       "  <th>Hard vs Soft</th>   <td>   -0.5122</td> <td>    0.145</td> <td>   -3.544</td> <td> 0.000</td> <td>   -0.796</td> <td>   -0.229</td>\n",
       "</tr>\n",
       "</table>"
      ],
      "text/plain": [
       "<class 'statsmodels.iolib.summary.Summary'>\n",
       "\"\"\"\n",
       "                           Logit Regression Results                           \n",
       "==============================================================================\n",
       "Dep. Variable:                      y   No. Observations:                  542\n",
       "Model:                          Logit   Df Residuals:                      539\n",
       "Method:                           MLE   Df Model:                            2\n",
       "Date:                Thu, 22 Jun 2023   Pseudo R-squ.:                 0.02433\n",
       "Time:                        16:34:48   Log-Likelihood:                -366.54\n",
       "converged:                       True   LL-Null:                       -375.69\n",
       "Covariance Type:            nonrobust   LLR p-value:                 0.0001071\n",
       "==================================================================================\n",
       "                     coef    std err          z      P>|z|      [0.025      0.975]\n",
       "----------------------------------------------------------------------------------\n",
       "COVID              0.0714      0.192      0.373      0.709      -0.304       0.447\n",
       "Direct mention    -0.1034      0.152     -0.682      0.495      -0.401       0.194\n",
       "Hard vs Soft      -0.5122      0.145     -3.544      0.000      -0.796      -0.229\n",
       "==================================================================================\n",
       "\"\"\""
      ]
     },
     "execution_count": 31,
     "metadata": {},
     "output_type": "execute_result"
    }
   ],
   "source": [
    "predictions = log_reg.predict(X_test)\n",
    "predictions = list(map(round, predictions))\n",
    "\n",
    "print('Test accuracy: ', accuracy_score(y_test, predictions))\n",
    "\n",
    "log_reg.summary()"
   ]
  },
  {
   "cell_type": "code",
   "execution_count": 32,
   "id": "6f3d4e75-70af-471d-8bcf-6ffdeb39f289",
   "metadata": {},
   "outputs": [
    {
     "data": {
      "image/png": "[encoded data removed]",
      "text/plain": [
       "<Figure size 640x480 with 1 Axes>"
      ]
     },
     "metadata": {},
     "output_type": "display_data"
    }
   ],
   "source": [
    "#faz o plot dos coeficientes\n",
    "plt.errorbar([log_reg.params.iloc[0]], [1], xerr = 0.9, fmt = 's',color = 'orange', \n",
    "            ecolor = 'orange', elinewidth = 1, capsize=10, label = log_reg.params.index[0])\n",
    "plt.errorbar([log_reg.params.iloc[1]], [0], xerr = 0.9, fmt = 's',color = 'darkblue', \n",
    "            ecolor = 'darkblue', elinewidth = 1, capsize=10, label = log_reg.params.index[1])\n",
    "plt.errorbar([log_reg.params.iloc[2]], [-1], xerr = 0.9, fmt = 's',color = 'darkgreen', \n",
    "            ecolor = 'darkgreen', elinewidth = 1, capsize=10, label = log_reg.params.index[2])\n",
    "plt.axvline(0, linestyle = '--', alpha = 0.5)\n",
    "plt.xlabel('Coefficients')\n",
    "plt.legend()\n",
    "\n",
    "#get current axes\n",
    "ax = plt.gca()\n",
    "\n",
    "#hide x-axis\n",
    "ax.get_yaxis().set_visible(False)\n",
    "plt.show()"
   ]
  },
  {
   "cell_type": "code",
   "execution_count": null,
   "id": "ba1d9417-6012-49e9-82eb-ff9456a704dc",
   "metadata": {},
   "outputs": [],
   "source": [
    "'''\n",
    "1. H0 (Null hypothesis): the 2 compared variables are independent\n",
    "2. H1 (Alternative Hypothesis): the 2 variables are dependent\n",
    "'''\n",
    "\n",
    "\n",
    "CrosstabResult =pd.crosstab(index=reg_data['Voto vencedor'],columns=reg_data['Hard vs Soft'])\n",
    "\n",
    "from scipy.stats import chi2_contingency\n",
    " \n",
    "# Performing Chi-sq test\n",
    "ChiSqResult = chi2_contingency(CrosstabResult)\n",
    " \n",
    "# P-Value is the Probability of H0 being True\n",
    "# If P-Value>0.05 then only we Accept the assumption(H0)\n",
    " \n",
    "print('The P-Value of the ChiSq Test is:', ChiSqResult[1])"
   ]
  },
  {
   "cell_type": "markdown",
   "id": "4906167c-131c-4129-9c64-724520e43aa1",
   "metadata": {},
   "source": [
    "# Decisões não-unânimes"
   ]
  },
  {
   "cell_type": "code",
   "execution_count": 33,
   "id": "81cc04d6-e480-4c88-b801-6ebfbac39033",
   "metadata": {},
   "outputs": [],
   "source": [
    "jus = jus[(jus['decisao'] != 'Unânime') & (jus['decisao'] != 'UNÂNIME')]\n",
    "reg_data = jus[(jus['Voto vencedor'] == 0)|(jus['Voto vencedor'] == 1)]"
   ]
  },
  {
   "cell_type": "code",
   "execution_count": 34,
   "id": "b29a1004-51b9-4b88-94a1-1376b750dac3",
   "metadata": {},
   "outputs": [
    {
     "name": "stdout",
     "output_type": "stream",
     "text": [
      "Number of samples:  126\n",
      "Number of 'votos vencedor':  98\n",
      "Perecentage of 'votos vencedor':  0.7\n"
     ]
    }
   ],
   "source": [
    "X = reg_data[['Generic mention', 'Imprecise mention', 'Precise mention', 'COVID', 'Direct mention']]\n",
    "y = reg_data['Voto vencedor']\n",
    "w = {0:sum(y), 1:(len(y)-sum(y))}\n",
    "\n",
    "X_train, X_test, y_train, y_test = train_test_split(X, y, test_size=0.1, random_state=42)\n",
    "\n",
    "print('Number of samples: ', len(X_train))\n",
    "print(\"Number of 'votos vencedor': \", sum(y))\n",
    "print(\"Perecentage of 'votos vencedor': \",  sum(y)/len(X))"
   ]
  },
  {
   "cell_type": "code",
   "execution_count": 35,
   "id": "3b3c2af6-c5f5-4a8a-bd16-08124b5bb06c",
   "metadata": {},
   "outputs": [
    {
     "name": "stdout",
     "output_type": "stream",
     "text": [
      "The P-Value of the ChiSq Test is: 0.12969130651659647\n"
     ]
    }
   ],
   "source": [
    "'''\n",
    "1. H0 (Null hypothesis): the 2 compared variables are independent\n",
    "2. H1 (Alternative Hypothesis): the 2 variables are dependent\n",
    "'''\n",
    "\n",
    "\n",
    "CrosstabResult =pd.crosstab(index=reg_data['Voto vencedor'],columns=reg_data['Imprecise mention'])\n",
    "\n",
    "from scipy.stats import chi2_contingency\n",
    " \n",
    "# Performing Chi-sq test\n",
    "ChiSqResult = chi2_contingency(CrosstabResult)\n",
    " \n",
    "# P-Value is the Probability of H0 being True\n",
    "# If P-Value>0.05 then only we Accept the assumption(H0)\n",
    " \n",
    "print('The P-Value of the ChiSq Test is:', ChiSqResult[1])"
   ]
  },
  {
   "cell_type": "code",
   "execution_count": 49,
   "id": "7c15b4ae-bc9b-4f38-a593-7e50c2699d32",
   "metadata": {},
   "outputs": [
    {
     "name": "stdout",
     "output_type": "stream",
     "text": [
      "Optimization terminated successfully.\n",
      "         Current function value: 0.634501\n",
      "         Iterations 5\n"
     ]
    }
   ],
   "source": [
    "log_reg = sm.Logit(list(y_train), X_train).fit()"
   ]
  },
  {
   "cell_type": "code",
   "execution_count": 37,
   "id": "28c3c3e8-9d1c-40fa-ae4e-57a52d7e2024",
   "metadata": {},
   "outputs": [
    {
     "name": "stdout",
     "output_type": "stream",
     "text": [
      "Test accuracy:  0.5\n"
     ]
    },
    {
     "data": {
      "text/html": [
       "<table class=\"simpletable\">\n",
       "<caption>Logit Regression Results</caption>\n",
       "<tr>\n",
       "  <th>Dep. Variable:</th>           <td>y</td>        <th>  No. Observations:  </th>  <td>   126</td> \n",
       "</tr>\n",
       "<tr>\n",
       "  <th>Model:</th>                 <td>Logit</td>      <th>  Df Residuals:      </th>  <td>   121</td> \n",
       "</tr>\n",
       "<tr>\n",
       "  <th>Method:</th>                 <td>MLE</td>       <th>  Df Model:          </th>  <td>     4</td> \n",
       "</tr>\n",
       "<tr>\n",
       "  <th>Date:</th>            <td>Thu, 22 Jun 2023</td> <th>  Pseudo R-squ.:     </th>  <td>0.05930</td>\n",
       "</tr>\n",
       "<tr>\n",
       "  <th>Time:</th>                <td>16:34:48</td>     <th>  Log-Likelihood:    </th> <td> -70.032</td>\n",
       "</tr>\n",
       "<tr>\n",
       "  <th>converged:</th>             <td>True</td>       <th>  LL-Null:           </th> <td> -74.446</td>\n",
       "</tr>\n",
       "<tr>\n",
       "  <th>Covariance Type:</th>     <td>nonrobust</td>    <th>  LLR p-value:       </th>  <td>0.06552</td>\n",
       "</tr>\n",
       "</table>\n",
       "<table class=\"simpletable\">\n",
       "<tr>\n",
       "          <td></td>             <th>coef</th>     <th>std err</th>      <th>z</th>      <th>P>|z|</th>  <th>[0.025</th>    <th>0.975]</th>  \n",
       "</tr>\n",
       "<tr>\n",
       "  <th>Generic mention</th>   <td>    1.3185</td> <td>    0.728</td> <td>    1.810</td> <td> 0.070</td> <td>   -0.109</td> <td>    2.746</td>\n",
       "</tr>\n",
       "<tr>\n",
       "  <th>Imprecise mention</th> <td>    2.3340</td> <td>    0.614</td> <td>    3.801</td> <td> 0.000</td> <td>    1.131</td> <td>    3.537</td>\n",
       "</tr>\n",
       "<tr>\n",
       "  <th>Precise mention</th>   <td>    1.6592</td> <td>    0.523</td> <td>    3.173</td> <td> 0.002</td> <td>    0.634</td> <td>    2.684</td>\n",
       "</tr>\n",
       "<tr>\n",
       "  <th>COVID</th>             <td>   -0.1069</td> <td>    0.436</td> <td>   -0.245</td> <td> 0.806</td> <td>   -0.961</td> <td>    0.748</td>\n",
       "</tr>\n",
       "<tr>\n",
       "  <th>Direct mention</th>    <td>   -1.0337</td> <td>    0.547</td> <td>   -1.889</td> <td> 0.059</td> <td>   -2.106</td> <td>    0.039</td>\n",
       "</tr>\n",
       "</table>"
      ],
      "text/plain": [
       "<class 'statsmodels.iolib.summary.Summary'>\n",
       "\"\"\"\n",
       "                           Logit Regression Results                           \n",
       "==============================================================================\n",
       "Dep. Variable:                      y   No. Observations:                  126\n",
       "Model:                          Logit   Df Residuals:                      121\n",
       "Method:                           MLE   Df Model:                            4\n",
       "Date:                Thu, 22 Jun 2023   Pseudo R-squ.:                 0.05930\n",
       "Time:                        16:34:48   Log-Likelihood:                -70.032\n",
       "converged:                       True   LL-Null:                       -74.446\n",
       "Covariance Type:            nonrobust   LLR p-value:                   0.06552\n",
       "=====================================================================================\n",
       "                        coef    std err          z      P>|z|      [0.025      0.975]\n",
       "-------------------------------------------------------------------------------------\n",
       "Generic mention       1.3185      0.728      1.810      0.070      -0.109       2.746\n",
       "Imprecise mention     2.3340      0.614      3.801      0.000       1.131       3.537\n",
       "Precise mention       1.6592      0.523      3.173      0.002       0.634       2.684\n",
       "COVID                -0.1069      0.436     -0.245      0.806      -0.961       0.748\n",
       "Direct mention       -1.0337      0.547     -1.889      0.059      -2.106       0.039\n",
       "=====================================================================================\n",
       "\"\"\""
      ]
     },
     "execution_count": 37,
     "metadata": {},
     "output_type": "execute_result"
    }
   ],
   "source": [
    "predictions = log_reg.predict(X_test)\n",
    "predictions = list(map(round, predictions))\n",
    "\n",
    "print('Test accuracy: ', accuracy_score(y_test, predictions))\n",
    "\n",
    "log_reg.summary()"
   ]
  },
  {
   "cell_type": "code",
   "execution_count": 38,
   "id": "68e8d3ca-576a-4460-b433-88d093152037",
   "metadata": {},
   "outputs": [
    {
     "data": {
      "image/png": "[encoded data removed]",
      "text/plain": [
       "<Figure size 640x480 with 1 Axes>"
      ]
     },
     "metadata": {},
     "output_type": "display_data"
    }
   ],
   "source": [
    "conf_mat = confusion_matrix(y_test, predictions)\n",
    "seaborn.heatmap(conf_mat, square=True, annot=True, cmap='Blues', fmt='d', cbar=False)\n",
    "plt.show()"
   ]
  },
  {
   "cell_type": "code",
   "execution_count": 39,
   "id": "832ffe7a-3c90-48e4-8804-c2bfb01046db",
   "metadata": {},
   "outputs": [
    {
     "name": "stdout",
     "output_type": "stream",
     "text": [
      "0.5714285714285714\n"
     ]
    },
    {
     "data": {
      "image/png": "[encoded data removed]",
      "text/plain": [
       "<Figure size 640x480 with 1 Axes>"
      ]
     },
     "metadata": {},
     "output_type": "display_data"
    }
   ],
   "source": [
    "model = LogisticRegression(class_weight=w)\n",
    "model.fit(X_train, y_train)\n",
    "print(model.score(X_test, y_test))\n",
    "conf_mat = confusion_matrix(y_test, model.predict(X_test))\n",
    "seaborn.heatmap(conf_mat, square=True, annot=True, cmap='Blues', fmt='d', cbar=False)\n",
    "plt.show()"
   ]
  },
  {
   "cell_type": "code",
   "execution_count": 40,
   "id": "1ecef73f-0c9b-4962-b3fe-62b0d0d3171a",
   "metadata": {},
   "outputs": [
    {
     "name": "stdout",
     "output_type": "stream",
     "text": [
      "Two most important features:\n",
      "['Imprecise mention', 'Direct mention']\n",
      "\n",
      "\n",
      "Position ranking\n",
      "Generic mention :  2\n",
      "Imprecise mention :  1\n",
      "Precise mention :  4\n",
      "COVID :  3\n",
      "Direct mention :  1\n",
      "0.5714285714285714\n"
     ]
    }
   ],
   "source": [
    "model = LogisticRegression(class_weight= 'balanced', solver = 'liblinear')\n",
    "selector = RFE(model, n_features_to_select=2, step=1)\n",
    "selector = selector.fit(X_train, y_train)\n",
    "\n",
    "print('Two most important features:')\n",
    "print(list(log_reg.params.index[selector.support_]))\n",
    "\n",
    "print('\\n\\nPosition ranking')\n",
    "for i, el in enumerate(log_reg.params.index):\n",
    "    print(el, ': ', selector.ranking_[i])\n",
    "    \n",
    "reduced_X_train = X_train[log_reg.params.index[selector.support_]]\n",
    "reduced_X_test = X_test[log_reg.params.index[selector.support_]]\n",
    "reduced_model = LogisticRegression(class_weight= 'balanced', solver = 'liblinear').fit(reduced_X_train, y_train)\n",
    "print(reduced_model.score(reduced_X_test, y_test))"
   ]
  },
  {
   "cell_type": "code",
   "execution_count": 41,
   "id": "9f970666-3ad0-4d1d-92f1-730325249931",
   "metadata": {},
   "outputs": [
    {
     "name": "stdout",
     "output_type": "stream",
     "text": [
      "Two most important features:\n",
      "['Imprecise mention', 'Direct mention']\n",
      "\n",
      "\n",
      "Position ranking\n",
      "Generic mention :  2\n",
      "Imprecise mention :  1\n",
      "Precise mention :  4\n",
      "COVID :  3\n",
      "Direct mention :  1\n",
      "0.5714285714285714\n"
     ]
    }
   ],
   "source": [
    "model = LogisticRegression(class_weight= 'balanced', solver = 'liblinear')\n",
    "selector = RFECV(model, cv = 5, step=1)\n",
    "selector = selector.fit(X_train, y_train)\n",
    "\n",
    "print('Two most important features:')\n",
    "print(list(log_reg.params.index[selector.support_]))\n",
    "\n",
    "print('\\n\\nPosition ranking')\n",
    "for i, el in enumerate(log_reg.params.index):\n",
    "    print(el, ': ', selector.ranking_[i])\n",
    "\n",
    "reduced_X_train = X_train[log_reg.params.index[selector.support_]]\n",
    "reduced_X_test = X_test[log_reg.params.index[selector.support_]]\n",
    "reduced_model = LogisticRegression(class_weight= 'balanced', solver = 'liblinear').fit(reduced_X_train, y_train)\n",
    "print(reduced_model.score(reduced_X_test, y_test))"
   ]
  },
  {
   "cell_type": "code",
   "execution_count": 42,
   "id": "0db4c5b3-c7f5-47c1-91f2-773be52c3953",
   "metadata": {},
   "outputs": [
    {
     "name": "stdout",
     "output_type": "stream",
     "text": [
      "0.5714285714285714\n"
     ]
    },
    {
     "data": {
      "text/plain": [
       "array([[-0.25996493,  0.6850825 ,  0.04344263, -0.05277972, -0.84025783]])"
      ]
     },
     "execution_count": 42,
     "metadata": {},
     "output_type": "execute_result"
    }
   ],
   "source": [
    "model = LogisticRegression(class_weight= 'balanced', solver = 'liblinear').fit(X_train, y_train)\n",
    "print(model.score(X_test,y_test))\n",
    "model.coef_"
   ]
  },
  {
   "cell_type": "code",
   "execution_count": 43,
   "id": "72d4cb0c-07be-475d-b3f3-68dd6acea312",
   "metadata": {},
   "outputs": [
    {
     "name": "stdout",
     "output_type": "stream",
     "text": [
      "0.5\n"
     ]
    },
    {
     "data": {
      "text/plain": [
       "array([[-0.09479925,  0.84321079,  0.2898931 , -0.05208453, -0.6552428 ]])"
      ]
     },
     "execution_count": 43,
     "metadata": {},
     "output_type": "execute_result"
    }
   ],
   "source": [
    "model = LogisticRegression(solver = 'liblinear').fit(X_train, y_train)\n",
    "print(model.score(X_test,y_test))\n",
    "model.coef_"
   ]
  },
  {
   "cell_type": "code",
   "execution_count": 44,
   "id": "d0a9d726-b30d-44b1-9ca6-6dd27aa2c8be",
   "metadata": {},
   "outputs": [
    {
     "name": "stdout",
     "output_type": "stream",
     "text": [
      "Number of samples:  93\n",
      "Number of 'votos vencedor':  75\n",
      "Perecentage of 'votos vencedor':  0.7211538461538461\n"
     ]
    }
   ],
   "source": [
    "reg_data = reg_data[(reg_data['Hard vs Soft'] == 1) | (reg_data['Hard vs Soft'] == 0)]\n",
    "X = reg_data[['COVID', 'Direct mention', 'Hard vs Soft']]\n",
    "y = reg_data['Voto vencedor']\n",
    "class_weight = {1:sum(y), 0:(len(y)-sum(y))}\n",
    "\n",
    "X_train, X_test, y_train, y_test = train_test_split(X, y, test_size=0.1, random_state=42)\n",
    "\n",
    "print('Number of samples: ', len(X_train))\n",
    "print(\"Number of 'votos vencedor': \", sum(y))\n",
    "print(\"Perecentage of 'votos vencedor': \",  sum(y)/len(X))"
   ]
  },
  {
   "cell_type": "code",
   "execution_count": 56,
   "id": "9759e08b-ae36-4501-96b6-b06109920462",
   "metadata": {},
   "outputs": [
    {
     "name": "stdout",
     "output_type": "stream",
     "text": [
      "The P-Value of the ChiSq Test is: 0.053519015625500974\n"
     ]
    }
   ],
   "source": [
    "'''\n",
    "1. H0 (Null hypothesis): the 2 compared variables are independent\n",
    "2. H1 (Alternative Hypothesis): the 2 variables are dependent\n",
    "'''\n",
    "\n",
    "\n",
    "CrosstabResult =pd.crosstab(index=reg_data['Voto vencedor'],columns=reg_data['Hard vs Soft'])\n",
    "\n",
    "from scipy.stats import chi2_contingency\n",
    " \n",
    "# Performing Chi-sq test\n",
    "ChiSqResult = chi2_contingency(CrosstabResult)\n",
    " \n",
    "# P-Value is the Probability of H0 being True\n",
    "# If P-Value>0.05 then only we Accept the assumption(H0)\n",
    " \n",
    "print('The P-Value of the ChiSq Test is:', ChiSqResult[1])"
   ]
  },
  {
   "cell_type": "code",
   "execution_count": 57,
   "id": "c3ff8ea1-4074-4013-8940-b32adc7504c7",
   "metadata": {},
   "outputs": [
    {
     "data": {
      "text/plain": [
       "0.6363636363636364"
      ]
     },
     "execution_count": 57,
     "metadata": {},
     "output_type": "execute_result"
    }
   ],
   "source": [
    "log_reg = LogisticRegression(class_weight= 'balanced', solver = 'liblinear').fit(X_train, y_train)\n",
    "log_reg.score(X_test, y_test)"
   ]
  },
  {
   "cell_type": "code",
   "execution_count": 51,
   "id": "e27e8b4d-c730-4772-904c-cac9858d681c",
   "metadata": {},
   "outputs": [
    {
     "name": "stdout",
     "output_type": "stream",
     "text": [
      "Two most important features:\n",
      "['Direct mention', 'Hard vs Soft']\n",
      "\n",
      "\n",
      "Position ranking\n",
      "COVID :  2\n",
      "Direct mention :  1\n",
      "Hard vs Soft :  1\n",
      "0.5454545454545454\n"
     ]
    }
   ],
   "source": [
    "model = LogisticRegression(class_weight= 'balanced', solver = 'liblinear')\n",
    "selector = RFE(model, n_features_to_select=2, step=1)\n",
    "selector = selector.fit(X_train, y_train)\n",
    "\n",
    "print('Two most important features:')\n",
    "print(list(log_reg.params.index[selector.support_]))\n",
    "\n",
    "print('\\n\\nPosition ranking')\n",
    "for i, el in enumerate(log_reg.params.index):\n",
    "    print(el, ': ', selector.ranking_[i])\n",
    "    \n",
    "reduced_X_train = X_train[log_reg.params.index[selector.support_]]\n",
    "reduced_X_test = X_test[log_reg.params.index[selector.support_]]\n",
    "reduced_model = LogisticRegression(class_weight= 'balanced', solver = 'liblinear').fit(reduced_X_train, y_train)\n",
    "print(reduced_model.score(reduced_X_test, y_test))"
   ]
  },
  {
   "cell_type": "code",
   "execution_count": 60,
   "id": "7e418181-9032-46fa-a8d2-8964d00f0743",
   "metadata": {},
   "outputs": [
    {
     "name": "stdout",
     "output_type": "stream",
     "text": [
      "Optimization terminated successfully.\n",
      "         Current function value: 0.634501\n",
      "         Iterations 5\n",
      "Test accuracy:  0.45454545454545453\n"
     ]
    },
    {
     "data": {
      "text/html": [
       "<table class=\"simpletable\">\n",
       "<caption>Logit Regression Results</caption>\n",
       "<tr>\n",
       "  <th>Dep. Variable:</th>     <td>Voto vencedor</td>  <th>  No. Observations:  </th>  <td>    93</td> \n",
       "</tr>\n",
       "<tr>\n",
       "  <th>Model:</th>                 <td>Logit</td>      <th>  Df Residuals:      </th>  <td>    90</td> \n",
       "</tr>\n",
       "<tr>\n",
       "  <th>Method:</th>                 <td>MLE</td>       <th>  Df Model:          </th>  <td>     2</td> \n",
       "</tr>\n",
       "<tr>\n",
       "  <th>Date:</th>            <td>Thu, 22 Jun 2023</td> <th>  Pseudo R-squ.:     </th>  <td>-0.1343</td>\n",
       "</tr>\n",
       "<tr>\n",
       "  <th>Time:</th>                <td>16:41:58</td>     <th>  Log-Likelihood:    </th> <td> -59.009</td>\n",
       "</tr>\n",
       "<tr>\n",
       "  <th>converged:</th>             <td>True</td>       <th>  LL-Null:           </th> <td> -52.021</td>\n",
       "</tr>\n",
       "<tr>\n",
       "  <th>Covariance Type:</th>     <td>nonrobust</td>    <th>  LLR p-value:       </th>  <td> 1.000</td> \n",
       "</tr>\n",
       "</table>\n",
       "<table class=\"simpletable\">\n",
       "<tr>\n",
       "         <td></td>           <th>coef</th>     <th>std err</th>      <th>z</th>      <th>P>|z|</th>  <th>[0.025</th>    <th>0.975]</th>  \n",
       "</tr>\n",
       "<tr>\n",
       "  <th>COVID</th>          <td>    0.5291</td> <td>    0.476</td> <td>    1.111</td> <td> 0.266</td> <td>   -0.404</td> <td>    1.462</td>\n",
       "</tr>\n",
       "<tr>\n",
       "  <th>Direct mention</th> <td>    0.4588</td> <td>    0.335</td> <td>    1.369</td> <td> 0.171</td> <td>   -0.198</td> <td>    1.116</td>\n",
       "</tr>\n",
       "<tr>\n",
       "  <th>Hard vs Soft</th>   <td>    0.1809</td> <td>    0.453</td> <td>    0.400</td> <td> 0.689</td> <td>   -0.706</td> <td>    1.068</td>\n",
       "</tr>\n",
       "</table>"
      ],
      "text/plain": [
       "<class 'statsmodels.iolib.summary.Summary'>\n",
       "\"\"\"\n",
       "                           Logit Regression Results                           \n",
       "==============================================================================\n",
       "Dep. Variable:          Voto vencedor   No. Observations:                   93\n",
       "Model:                          Logit   Df Residuals:                       90\n",
       "Method:                           MLE   Df Model:                            2\n",
       "Date:                Thu, 22 Jun 2023   Pseudo R-squ.:                 -0.1343\n",
       "Time:                        16:41:58   Log-Likelihood:                -59.009\n",
       "converged:                       True   LL-Null:                       -52.021\n",
       "Covariance Type:            nonrobust   LLR p-value:                     1.000\n",
       "==================================================================================\n",
       "                     coef    std err          z      P>|z|      [0.025      0.975]\n",
       "----------------------------------------------------------------------------------\n",
       "COVID              0.5291      0.476      1.111      0.266      -0.404       1.462\n",
       "Direct mention     0.4588      0.335      1.369      0.171      -0.198       1.116\n",
       "Hard vs Soft       0.1809      0.453      0.400      0.689      -0.706       1.068\n",
       "==================================================================================\n",
       "\"\"\""
      ]
     },
     "execution_count": 60,
     "metadata": {},
     "output_type": "execute_result"
    }
   ],
   "source": [
    "log_reg = sm.Logit(y_train, X_train).fit()\n",
    "\n",
    "predictions = log_reg.predict(X_test)\n",
    "predictions = list(map(round, predictions))\n",
    "\n",
    "print('Test accuracy: ', accuracy_score(y_test, predictions))\n",
    "\n",
    "log_reg.summary()"
   ]
  },
  {
   "cell_type": "code",
   "execution_count": 59,
   "id": "a36906e0-1d2f-4a38-b878-deeb7b499a1e",
   "metadata": {},
   "outputs": [
    {
     "data": {
      "image/png": "[encoded data removed]",
      "text/plain": [
       "<Figure size 640x480 with 1 Axes>"
      ]
     },
     "metadata": {},
     "output_type": "display_data"
    }
   ],
   "source": [
    "#faz o plot dos coeficientes\n",
    "plt.errorbar([log_reg.params.iloc[0]], [1], xerr = 0.9, fmt = 's',color = 'orange', \n",
    "            ecolor = 'orange', elinewidth = 1, capsize=10, label = log_reg.params.index[0])\n",
    "plt.errorbar([log_reg.params.iloc[1]], [0], xerr = 0.9, fmt = 's',color = 'darkblue', \n",
    "            ecolor = 'darkblue', elinewidth = 1, capsize=10, label = log_reg.params.index[1])\n",
    "plt.errorbar([log_reg.params.iloc[2]], [-1], xerr = 0.9, fmt = 's',color = 'darkgreen', \n",
    "            ecolor = 'darkgreen', elinewidth = 1, capsize=10, label = log_reg.params.index[2])\n",
    "plt.axvline(0, linestyle = '--', alpha = 0.5)\n",
    "plt.xlabel('Coefficients')\n",
    "plt.legend()\n",
    "\n",
    "#get current axes\n",
    "ax = plt.gca()\n",
    "\n",
    "#hide x-axis\n",
    "ax.get_yaxis().set_visible(False)\n",
    "plt.show()"
   ]
  },
  {
   "cell_type": "code",
   "execution_count": null,
   "id": "e4b24fdc-e5e0-4218-b267-911f119bf0f1",
   "metadata": {},
   "outputs": [],
   "source": []
  }
 ],
 "metadata": {
  "kernelspec": {
   "display_name": "Python 3 (ipykernel)",
   "language": "python",
   "name": "python3"
  },
  "language_info": {
   "codemirror_mode": {
    "name": "ipython",
    "version": 3
   },
   "file_extension": ".py",
   "mimetype": "text/x-python",
   "name": "python",
   "nbconvert_exporter": "python",
   "pygments_lexer": "ipython3",
   "version": "3.10.9"
  }
 },
 "nbformat": 4,
 "nbformat_minor": 5
}
